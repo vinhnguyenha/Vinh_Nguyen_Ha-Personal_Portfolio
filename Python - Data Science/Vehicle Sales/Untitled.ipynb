{
 "cells": [
  {
   "cell_type": "code",
   "execution_count": 1,
   "id": "3ff2a4cf",
   "metadata": {},
   "outputs": [],
   "source": [
    "import pandas as pd\n",
    "import numpy as np\n",
    "import matplotlib.pyplot as plt\n",
    "%matplotlib inline"
   ]
  },
  {
   "cell_type": "code",
   "execution_count": 2,
   "id": "ac5cfd82",
   "metadata": {},
   "outputs": [
    {
     "data": {
      "text/html": [
       "<div>\n",
       "<style scoped>\n",
       "    .dataframe tbody tr th:only-of-type {\n",
       "        vertical-align: middle;\n",
       "    }\n",
       "\n",
       "    .dataframe tbody tr th {\n",
       "        vertical-align: top;\n",
       "    }\n",
       "\n",
       "    .dataframe thead th {\n",
       "        text-align: right;\n",
       "    }\n",
       "</style>\n",
       "<table border=\"1\" class=\"dataframe\">\n",
       "  <thead>\n",
       "    <tr style=\"text-align: right;\">\n",
       "      <th></th>\n",
       "      <th>year</th>\n",
       "      <th>make</th>\n",
       "      <th>model</th>\n",
       "      <th>trim</th>\n",
       "      <th>body</th>\n",
       "      <th>transmission</th>\n",
       "      <th>vin</th>\n",
       "      <th>state</th>\n",
       "      <th>condition</th>\n",
       "      <th>odometer</th>\n",
       "      <th>color</th>\n",
       "      <th>interior</th>\n",
       "      <th>seller</th>\n",
       "      <th>mmr</th>\n",
       "      <th>sellingprice</th>\n",
       "      <th>saledate</th>\n",
       "    </tr>\n",
       "  </thead>\n",
       "  <tbody>\n",
       "    <tr>\n",
       "      <th>0</th>\n",
       "      <td>2015</td>\n",
       "      <td>Kia</td>\n",
       "      <td>Sorento</td>\n",
       "      <td>LX</td>\n",
       "      <td>SUV</td>\n",
       "      <td>automatic</td>\n",
       "      <td>5xyktca69fg566472</td>\n",
       "      <td>ca</td>\n",
       "      <td>5.0</td>\n",
       "      <td>16639.0</td>\n",
       "      <td>white</td>\n",
       "      <td>black</td>\n",
       "      <td>kia motors america  inc</td>\n",
       "      <td>20500.0</td>\n",
       "      <td>21500.0</td>\n",
       "      <td>Tue Dec 16 2014 12:30:00 GMT-0800 (PST)</td>\n",
       "    </tr>\n",
       "    <tr>\n",
       "      <th>1</th>\n",
       "      <td>2015</td>\n",
       "      <td>Kia</td>\n",
       "      <td>Sorento</td>\n",
       "      <td>LX</td>\n",
       "      <td>SUV</td>\n",
       "      <td>automatic</td>\n",
       "      <td>5xyktca69fg561319</td>\n",
       "      <td>ca</td>\n",
       "      <td>5.0</td>\n",
       "      <td>9393.0</td>\n",
       "      <td>white</td>\n",
       "      <td>beige</td>\n",
       "      <td>kia motors america  inc</td>\n",
       "      <td>20800.0</td>\n",
       "      <td>21500.0</td>\n",
       "      <td>Tue Dec 16 2014 12:30:00 GMT-0800 (PST)</td>\n",
       "    </tr>\n",
       "    <tr>\n",
       "      <th>2</th>\n",
       "      <td>2014</td>\n",
       "      <td>BMW</td>\n",
       "      <td>3 Series</td>\n",
       "      <td>328i SULEV</td>\n",
       "      <td>Sedan</td>\n",
       "      <td>automatic</td>\n",
       "      <td>wba3c1c51ek116351</td>\n",
       "      <td>ca</td>\n",
       "      <td>45.0</td>\n",
       "      <td>1331.0</td>\n",
       "      <td>gray</td>\n",
       "      <td>black</td>\n",
       "      <td>financial services remarketing (lease)</td>\n",
       "      <td>31900.0</td>\n",
       "      <td>30000.0</td>\n",
       "      <td>Thu Jan 15 2015 04:30:00 GMT-0800 (PST)</td>\n",
       "    </tr>\n",
       "    <tr>\n",
       "      <th>3</th>\n",
       "      <td>2015</td>\n",
       "      <td>Volvo</td>\n",
       "      <td>S60</td>\n",
       "      <td>T5</td>\n",
       "      <td>Sedan</td>\n",
       "      <td>automatic</td>\n",
       "      <td>yv1612tb4f1310987</td>\n",
       "      <td>ca</td>\n",
       "      <td>41.0</td>\n",
       "      <td>14282.0</td>\n",
       "      <td>white</td>\n",
       "      <td>black</td>\n",
       "      <td>volvo na rep/world omni</td>\n",
       "      <td>27500.0</td>\n",
       "      <td>27750.0</td>\n",
       "      <td>Thu Jan 29 2015 04:30:00 GMT-0800 (PST)</td>\n",
       "    </tr>\n",
       "    <tr>\n",
       "      <th>4</th>\n",
       "      <td>2014</td>\n",
       "      <td>BMW</td>\n",
       "      <td>6 Series Gran Coupe</td>\n",
       "      <td>650i</td>\n",
       "      <td>Sedan</td>\n",
       "      <td>automatic</td>\n",
       "      <td>wba6b2c57ed129731</td>\n",
       "      <td>ca</td>\n",
       "      <td>43.0</td>\n",
       "      <td>2641.0</td>\n",
       "      <td>gray</td>\n",
       "      <td>black</td>\n",
       "      <td>financial services remarketing (lease)</td>\n",
       "      <td>66000.0</td>\n",
       "      <td>67000.0</td>\n",
       "      <td>Thu Dec 18 2014 12:30:00 GMT-0800 (PST)</td>\n",
       "    </tr>\n",
       "  </tbody>\n",
       "</table>\n",
       "</div>"
      ],
      "text/plain": [
       "   year   make                model        trim   body transmission  \\\n",
       "0  2015    Kia              Sorento          LX    SUV    automatic   \n",
       "1  2015    Kia              Sorento          LX    SUV    automatic   \n",
       "2  2014    BMW             3 Series  328i SULEV  Sedan    automatic   \n",
       "3  2015  Volvo                  S60          T5  Sedan    automatic   \n",
       "4  2014    BMW  6 Series Gran Coupe        650i  Sedan    automatic   \n",
       "\n",
       "                 vin state  condition  odometer  color interior  \\\n",
       "0  5xyktca69fg566472    ca        5.0   16639.0  white    black   \n",
       "1  5xyktca69fg561319    ca        5.0    9393.0  white    beige   \n",
       "2  wba3c1c51ek116351    ca       45.0    1331.0   gray    black   \n",
       "3  yv1612tb4f1310987    ca       41.0   14282.0  white    black   \n",
       "4  wba6b2c57ed129731    ca       43.0    2641.0   gray    black   \n",
       "\n",
       "                                   seller      mmr  sellingprice  \\\n",
       "0                 kia motors america  inc  20500.0       21500.0   \n",
       "1                 kia motors america  inc  20800.0       21500.0   \n",
       "2  financial services remarketing (lease)  31900.0       30000.0   \n",
       "3                 volvo na rep/world omni  27500.0       27750.0   \n",
       "4  financial services remarketing (lease)  66000.0       67000.0   \n",
       "\n",
       "                                  saledate  \n",
       "0  Tue Dec 16 2014 12:30:00 GMT-0800 (PST)  \n",
       "1  Tue Dec 16 2014 12:30:00 GMT-0800 (PST)  \n",
       "2  Thu Jan 15 2015 04:30:00 GMT-0800 (PST)  \n",
       "3  Thu Jan 29 2015 04:30:00 GMT-0800 (PST)  \n",
       "4  Thu Dec 18 2014 12:30:00 GMT-0800 (PST)  "
      ]
     },
     "execution_count": 2,
     "metadata": {},
     "output_type": "execute_result"
    }
   ],
   "source": [
    "df = pd.read_csv(\"D:\\\\Personal Portfolio\\\\Python - Data Science\\\\Vehicle Sales\\\\car_prices.csv\")\n",
    "df.head()"
   ]
  },
  {
   "cell_type": "markdown",
   "id": "d0bafa97",
   "metadata": {},
   "source": [
    "- year: The manufacturing year of the vehicle.\n",
    "- make:\n",
    "- model:\n",
    "- trim:\n",
    "- body:\n",
    "- transmission: The type of transmission in the vehicle (e.g., automatic).\n",
    "- vin: vehicle identification number (unique code for each vehicle).\n",
    "- state: the state where the vehicle is registered\n",
    "- condition: condition of the vehicle, possibly rated on scale.\n",
    "- odometer: The mileage or distance traveled by the vehicle.\n",
    "- color: exterior color of the vehicle\n",
    "- interior: interior color of the vehicle\n",
    "- seller: the entity selling the vehicle\n",
    "- mmr: Manheim Market Report, indicating the estimated market value of the vehicle.\n",
    "- selling price: the price at which the vehicle was sold\n",
    "- saledate: The date and time when the vehicle was sold"
   ]
  },
  {
   "cell_type": "markdown",
   "id": "9e945c7e",
   "metadata": {},
   "source": [
    "### Rename Columns\n",
    "\n",
    "- It's quite ambiguous to understand the condition column. It is actually the depreciation rate of the car. \n",
    "- Imagine a new car worths 35,880 dollar (new car value) and after a period of time its value is 23,700 (current car value).\n",
    "- The depreciation rate = ((new car value - current car value)/new car value) * 100\n",
    "- In the example I provided, the depreciation is calculated as ((35,880-23,700)/35,880) * 100 = 33.94\n",
    "- I'll rename the condition column to dep_rate for accuracy"
   ]
  },
  {
   "cell_type": "code",
   "execution_count": 3,
   "id": "9e4a425b",
   "metadata": {},
   "outputs": [],
   "source": [
    "df = df.rename(columns = {\"condition\": \"dep_rate\"})"
   ]
  },
  {
   "cell_type": "markdown",
   "id": "e19282c4",
   "metadata": {},
   "source": [
    "### Investigating the dataset"
   ]
  },
  {
   "cell_type": "code",
   "execution_count": 4,
   "id": "3c41a582",
   "metadata": {},
   "outputs": [
    {
     "name": "stdout",
     "output_type": "stream",
     "text": [
      "The number of columns: 16\n",
      "The number of rows: 558837\n"
     ]
    }
   ],
   "source": [
    "print(\"The number of columns:\", df.shape[1])\n",
    "print(\"The number of rows:\", df.shape[0])"
   ]
  },
  {
   "cell_type": "code",
   "execution_count": 5,
   "id": "868dfc00",
   "metadata": {},
   "outputs": [
    {
     "name": "stdout",
     "output_type": "stream",
     "text": [
      "<class 'pandas.core.frame.DataFrame'>\n",
      "RangeIndex: 558837 entries, 0 to 558836\n",
      "Data columns (total 16 columns):\n",
      " #   Column        Non-Null Count   Dtype  \n",
      "---  ------        --------------   -----  \n",
      " 0   year          558837 non-null  int64  \n",
      " 1   make          548536 non-null  object \n",
      " 2   model         548438 non-null  object \n",
      " 3   trim          548186 non-null  object \n",
      " 4   body          545642 non-null  object \n",
      " 5   transmission  493485 non-null  object \n",
      " 6   vin           558833 non-null  object \n",
      " 7   state         558837 non-null  object \n",
      " 8   dep_rate      547017 non-null  float64\n",
      " 9   odometer      558743 non-null  float64\n",
      " 10  color         558088 non-null  object \n",
      " 11  interior      558088 non-null  object \n",
      " 12  seller        558837 non-null  object \n",
      " 13  mmr           558799 non-null  float64\n",
      " 14  sellingprice  558825 non-null  float64\n",
      " 15  saledate      558825 non-null  object \n",
      "dtypes: float64(4), int64(1), object(11)\n",
      "memory usage: 68.2+ MB\n"
     ]
    }
   ],
   "source": [
    "df.info()"
   ]
  },
  {
   "cell_type": "code",
   "execution_count": 6,
   "id": "5e03d35a",
   "metadata": {},
   "outputs": [
    {
     "name": "stdout",
     "output_type": "stream",
     "text": [
      "There are no duplicates\n"
     ]
    }
   ],
   "source": [
    "duplicate = df.duplicated().sum() # check duplicates\n",
    "if (duplicate != 0):\n",
    "    print(\"The number of duplicates:\", duplicate)\n",
    "else:\n",
    "    print(\"There are no duplicates\")"
   ]
  },
  {
   "cell_type": "markdown",
   "id": "f54de89d",
   "metadata": {},
   "source": [
    "### Dataset Cleaning"
   ]
  },
  {
   "cell_type": "code",
   "execution_count": 7,
   "id": "cfac097b",
   "metadata": {},
   "outputs": [
    {
     "data": {
      "text/plain": [
       "year                0\n",
       "make            10301\n",
       "model           10399\n",
       "trim            10651\n",
       "body            13195\n",
       "transmission    65352\n",
       "vin                 4\n",
       "state               0\n",
       "dep_rate        11820\n",
       "odometer           94\n",
       "color             749\n",
       "interior          749\n",
       "seller              0\n",
       "mmr                38\n",
       "sellingprice       12\n",
       "saledate           12\n",
       "dtype: int64"
      ]
     },
     "execution_count": 7,
     "metadata": {},
     "output_type": "execute_result"
    }
   ],
   "source": [
    "df.isnull().sum() # no of null values in each column"
   ]
  },
  {
   "cell_type": "code",
   "execution_count": 8,
   "id": "74191fcd",
   "metadata": {},
   "outputs": [
    {
     "data": {
      "text/html": [
       "<div>\n",
       "<style scoped>\n",
       "    .dataframe tbody tr th:only-of-type {\n",
       "        vertical-align: middle;\n",
       "    }\n",
       "\n",
       "    .dataframe tbody tr th {\n",
       "        vertical-align: top;\n",
       "    }\n",
       "\n",
       "    .dataframe thead th {\n",
       "        text-align: right;\n",
       "    }\n",
       "</style>\n",
       "<table border=\"1\" class=\"dataframe\">\n",
       "  <thead>\n",
       "    <tr style=\"text-align: right;\">\n",
       "      <th></th>\n",
       "      <th>year</th>\n",
       "      <th>make</th>\n",
       "      <th>model</th>\n",
       "      <th>trim</th>\n",
       "      <th>body</th>\n",
       "      <th>transmission</th>\n",
       "      <th>vin</th>\n",
       "      <th>state</th>\n",
       "      <th>dep_rate</th>\n",
       "      <th>odometer</th>\n",
       "      <th>color</th>\n",
       "      <th>interior</th>\n",
       "      <th>seller</th>\n",
       "      <th>mmr</th>\n",
       "      <th>sellingprice</th>\n",
       "      <th>saledate</th>\n",
       "    </tr>\n",
       "  </thead>\n",
       "  <tbody>\n",
       "    <tr>\n",
       "      <th>0</th>\n",
       "      <td>2015</td>\n",
       "      <td>Kia</td>\n",
       "      <td>Sorento</td>\n",
       "      <td>LX</td>\n",
       "      <td>SUV</td>\n",
       "      <td>automatic</td>\n",
       "      <td>5xyktca69fg566472</td>\n",
       "      <td>ca</td>\n",
       "      <td>5.0</td>\n",
       "      <td>16639.0</td>\n",
       "      <td>white</td>\n",
       "      <td>black</td>\n",
       "      <td>kia motors america  inc</td>\n",
       "      <td>20500.0</td>\n",
       "      <td>21500.0</td>\n",
       "      <td>Tue Dec 16 2014 12:30:00 GMT-0800 (PST)</td>\n",
       "    </tr>\n",
       "    <tr>\n",
       "      <th>1</th>\n",
       "      <td>2015</td>\n",
       "      <td>Kia</td>\n",
       "      <td>Sorento</td>\n",
       "      <td>LX</td>\n",
       "      <td>SUV</td>\n",
       "      <td>automatic</td>\n",
       "      <td>5xyktca69fg561319</td>\n",
       "      <td>ca</td>\n",
       "      <td>5.0</td>\n",
       "      <td>9393.0</td>\n",
       "      <td>white</td>\n",
       "      <td>beige</td>\n",
       "      <td>kia motors america  inc</td>\n",
       "      <td>20800.0</td>\n",
       "      <td>21500.0</td>\n",
       "      <td>Tue Dec 16 2014 12:30:00 GMT-0800 (PST)</td>\n",
       "    </tr>\n",
       "    <tr>\n",
       "      <th>2</th>\n",
       "      <td>2014</td>\n",
       "      <td>BMW</td>\n",
       "      <td>3 Series</td>\n",
       "      <td>328i SULEV</td>\n",
       "      <td>Sedan</td>\n",
       "      <td>automatic</td>\n",
       "      <td>wba3c1c51ek116351</td>\n",
       "      <td>ca</td>\n",
       "      <td>45.0</td>\n",
       "      <td>1331.0</td>\n",
       "      <td>gray</td>\n",
       "      <td>black</td>\n",
       "      <td>financial services remarketing (lease)</td>\n",
       "      <td>31900.0</td>\n",
       "      <td>30000.0</td>\n",
       "      <td>Thu Jan 15 2015 04:30:00 GMT-0800 (PST)</td>\n",
       "    </tr>\n",
       "    <tr>\n",
       "      <th>3</th>\n",
       "      <td>2015</td>\n",
       "      <td>Volvo</td>\n",
       "      <td>S60</td>\n",
       "      <td>T5</td>\n",
       "      <td>Sedan</td>\n",
       "      <td>automatic</td>\n",
       "      <td>yv1612tb4f1310987</td>\n",
       "      <td>ca</td>\n",
       "      <td>41.0</td>\n",
       "      <td>14282.0</td>\n",
       "      <td>white</td>\n",
       "      <td>black</td>\n",
       "      <td>volvo na rep/world omni</td>\n",
       "      <td>27500.0</td>\n",
       "      <td>27750.0</td>\n",
       "      <td>Thu Jan 29 2015 04:30:00 GMT-0800 (PST)</td>\n",
       "    </tr>\n",
       "    <tr>\n",
       "      <th>4</th>\n",
       "      <td>2014</td>\n",
       "      <td>BMW</td>\n",
       "      <td>6 Series Gran Coupe</td>\n",
       "      <td>650i</td>\n",
       "      <td>Sedan</td>\n",
       "      <td>automatic</td>\n",
       "      <td>wba6b2c57ed129731</td>\n",
       "      <td>ca</td>\n",
       "      <td>43.0</td>\n",
       "      <td>2641.0</td>\n",
       "      <td>gray</td>\n",
       "      <td>black</td>\n",
       "      <td>financial services remarketing (lease)</td>\n",
       "      <td>66000.0</td>\n",
       "      <td>67000.0</td>\n",
       "      <td>Thu Dec 18 2014 12:30:00 GMT-0800 (PST)</td>\n",
       "    </tr>\n",
       "  </tbody>\n",
       "</table>\n",
       "</div>"
      ],
      "text/plain": [
       "   year   make                model        trim   body transmission  \\\n",
       "0  2015    Kia              Sorento          LX    SUV    automatic   \n",
       "1  2015    Kia              Sorento          LX    SUV    automatic   \n",
       "2  2014    BMW             3 Series  328i SULEV  Sedan    automatic   \n",
       "3  2015  Volvo                  S60          T5  Sedan    automatic   \n",
       "4  2014    BMW  6 Series Gran Coupe        650i  Sedan    automatic   \n",
       "\n",
       "                 vin state  dep_rate  odometer  color interior  \\\n",
       "0  5xyktca69fg566472    ca       5.0   16639.0  white    black   \n",
       "1  5xyktca69fg561319    ca       5.0    9393.0  white    beige   \n",
       "2  wba3c1c51ek116351    ca      45.0    1331.0   gray    black   \n",
       "3  yv1612tb4f1310987    ca      41.0   14282.0  white    black   \n",
       "4  wba6b2c57ed129731    ca      43.0    2641.0   gray    black   \n",
       "\n",
       "                                   seller      mmr  sellingprice  \\\n",
       "0                 kia motors america  inc  20500.0       21500.0   \n",
       "1                 kia motors america  inc  20800.0       21500.0   \n",
       "2  financial services remarketing (lease)  31900.0       30000.0   \n",
       "3                 volvo na rep/world omni  27500.0       27750.0   \n",
       "4  financial services remarketing (lease)  66000.0       67000.0   \n",
       "\n",
       "                                  saledate  \n",
       "0  Tue Dec 16 2014 12:30:00 GMT-0800 (PST)  \n",
       "1  Tue Dec 16 2014 12:30:00 GMT-0800 (PST)  \n",
       "2  Thu Jan 15 2015 04:30:00 GMT-0800 (PST)  \n",
       "3  Thu Jan 29 2015 04:30:00 GMT-0800 (PST)  \n",
       "4  Thu Dec 18 2014 12:30:00 GMT-0800 (PST)  "
      ]
     },
     "execution_count": 8,
     "metadata": {},
     "output_type": "execute_result"
    }
   ],
   "source": [
    "df_clean = df.dropna(subset=[\"make\", \"body\", \"transmission\", \"dep_rate\", \"odometer\", \"mmr\", \"sellingprice\"]) # remove null values in specific columns\n",
    "df_clean.head()"
   ]
  },
  {
   "cell_type": "code",
   "execution_count": 9,
   "id": "e33f5a4f",
   "metadata": {},
   "outputs": [
    {
     "data": {
      "text/plain": [
       "year              0\n",
       "make              0\n",
       "model            92\n",
       "trim              0\n",
       "body              0\n",
       "transmission      0\n",
       "vin               0\n",
       "state             0\n",
       "dep_rate          0\n",
       "odometer          0\n",
       "color           548\n",
       "interior        548\n",
       "seller            0\n",
       "mmr               0\n",
       "sellingprice      0\n",
       "saledate          0\n",
       "dtype: int64"
      ]
     },
     "execution_count": 9,
     "metadata": {},
     "output_type": "execute_result"
    }
   ],
   "source": [
    "df_clean.isnull().sum() # no of null values in each column"
   ]
  },
  {
   "cell_type": "code",
   "execution_count": 10,
   "id": "2abd715e",
   "metadata": {
    "scrolled": true
   },
   "outputs": [
    {
     "data": {
      "text/html": [
       "<div>\n",
       "<style scoped>\n",
       "    .dataframe tbody tr th:only-of-type {\n",
       "        vertical-align: middle;\n",
       "    }\n",
       "\n",
       "    .dataframe tbody tr th {\n",
       "        vertical-align: top;\n",
       "    }\n",
       "\n",
       "    .dataframe thead th {\n",
       "        text-align: right;\n",
       "    }\n",
       "</style>\n",
       "<table border=\"1\" class=\"dataframe\">\n",
       "  <thead>\n",
       "    <tr style=\"text-align: right;\">\n",
       "      <th></th>\n",
       "      <th>year</th>\n",
       "      <th>make</th>\n",
       "      <th>model</th>\n",
       "      <th>trim</th>\n",
       "      <th>body</th>\n",
       "      <th>transmission</th>\n",
       "      <th>state</th>\n",
       "      <th>dep_rate</th>\n",
       "      <th>odometer</th>\n",
       "      <th>color</th>\n",
       "      <th>interior</th>\n",
       "      <th>mmr</th>\n",
       "      <th>sellingprice</th>\n",
       "    </tr>\n",
       "  </thead>\n",
       "  <tbody>\n",
       "    <tr>\n",
       "      <th>0</th>\n",
       "      <td>2015</td>\n",
       "      <td>Kia</td>\n",
       "      <td>Sorento</td>\n",
       "      <td>LX</td>\n",
       "      <td>SUV</td>\n",
       "      <td>automatic</td>\n",
       "      <td>ca</td>\n",
       "      <td>5.0</td>\n",
       "      <td>16639.0</td>\n",
       "      <td>white</td>\n",
       "      <td>black</td>\n",
       "      <td>20500.0</td>\n",
       "      <td>21500.0</td>\n",
       "    </tr>\n",
       "    <tr>\n",
       "      <th>1</th>\n",
       "      <td>2015</td>\n",
       "      <td>Kia</td>\n",
       "      <td>Sorento</td>\n",
       "      <td>LX</td>\n",
       "      <td>SUV</td>\n",
       "      <td>automatic</td>\n",
       "      <td>ca</td>\n",
       "      <td>5.0</td>\n",
       "      <td>9393.0</td>\n",
       "      <td>white</td>\n",
       "      <td>beige</td>\n",
       "      <td>20800.0</td>\n",
       "      <td>21500.0</td>\n",
       "    </tr>\n",
       "    <tr>\n",
       "      <th>2</th>\n",
       "      <td>2014</td>\n",
       "      <td>BMW</td>\n",
       "      <td>3 Series</td>\n",
       "      <td>328i SULEV</td>\n",
       "      <td>Sedan</td>\n",
       "      <td>automatic</td>\n",
       "      <td>ca</td>\n",
       "      <td>45.0</td>\n",
       "      <td>1331.0</td>\n",
       "      <td>gray</td>\n",
       "      <td>black</td>\n",
       "      <td>31900.0</td>\n",
       "      <td>30000.0</td>\n",
       "    </tr>\n",
       "    <tr>\n",
       "      <th>3</th>\n",
       "      <td>2015</td>\n",
       "      <td>Volvo</td>\n",
       "      <td>S60</td>\n",
       "      <td>T5</td>\n",
       "      <td>Sedan</td>\n",
       "      <td>automatic</td>\n",
       "      <td>ca</td>\n",
       "      <td>41.0</td>\n",
       "      <td>14282.0</td>\n",
       "      <td>white</td>\n",
       "      <td>black</td>\n",
       "      <td>27500.0</td>\n",
       "      <td>27750.0</td>\n",
       "    </tr>\n",
       "    <tr>\n",
       "      <th>4</th>\n",
       "      <td>2014</td>\n",
       "      <td>BMW</td>\n",
       "      <td>6 Series Gran Coupe</td>\n",
       "      <td>650i</td>\n",
       "      <td>Sedan</td>\n",
       "      <td>automatic</td>\n",
       "      <td>ca</td>\n",
       "      <td>43.0</td>\n",
       "      <td>2641.0</td>\n",
       "      <td>gray</td>\n",
       "      <td>black</td>\n",
       "      <td>66000.0</td>\n",
       "      <td>67000.0</td>\n",
       "    </tr>\n",
       "  </tbody>\n",
       "</table>\n",
       "</div>"
      ],
      "text/plain": [
       "   year   make                model        trim   body transmission state  \\\n",
       "0  2015    Kia              Sorento          LX    SUV    automatic    ca   \n",
       "1  2015    Kia              Sorento          LX    SUV    automatic    ca   \n",
       "2  2014    BMW             3 Series  328i SULEV  Sedan    automatic    ca   \n",
       "3  2015  Volvo                  S60          T5  Sedan    automatic    ca   \n",
       "4  2014    BMW  6 Series Gran Coupe        650i  Sedan    automatic    ca   \n",
       "\n",
       "   dep_rate  odometer  color interior      mmr  sellingprice  \n",
       "0       5.0   16639.0  white    black  20500.0       21500.0  \n",
       "1       5.0    9393.0  white    beige  20800.0       21500.0  \n",
       "2      45.0    1331.0   gray    black  31900.0       30000.0  \n",
       "3      41.0   14282.0  white    black  27500.0       27750.0  \n",
       "4      43.0    2641.0   gray    black  66000.0       67000.0  "
      ]
     },
     "execution_count": 10,
     "metadata": {},
     "output_type": "execute_result"
    }
   ],
   "source": [
    "df_clean = df_clean.drop(columns = [\"vin\", \"seller\", \"saledate\"]) # drop unused columns\n",
    "df_clean.head()"
   ]
  },
  {
   "cell_type": "markdown",
   "id": "cb1384d1",
   "metadata": {},
   "source": [
    "- We check if there are any potential mispelling or inconsistent capitalization in the columns to make it accurate. For example, the body column, Suv can be written as SUV or SUV. \n",
    "- We need to double check and modify it"
   ]
  },
  {
   "cell_type": "code",
   "execution_count": 11,
   "id": "0446dada",
   "metadata": {},
   "outputs": [
    {
     "data": {
      "text/plain": [
       "array(['SUV', 'Sedan', 'Convertible', 'Coupe', 'Wagon', 'Hatchback',\n",
       "       'Crew Cab', 'G Coupe', 'G Sedan', 'Elantra Coupe', 'Genesis Coupe',\n",
       "       'Minivan', 'Van', 'Double Cab', 'CrewMax Cab', 'Access Cab',\n",
       "       'King Cab', 'CTS Coupe', 'SuperCrew', 'E-Series Van',\n",
       "       'Extended Cab', 'SuperCab', 'G Convertible', 'Koup', 'Regular Cab',\n",
       "       'Quad Cab', 'CTS-V Coupe', 'sedan', 'G37 Convertible', 'Club Cab',\n",
       "       'Xtracab', 'Q60 Convertible', 'CTS Wagon', 'G37 Coupe', 'Mega Cab',\n",
       "       'Cab Plus 4', 'Q60 Coupe', 'Beetle Convertible', 'TSX Sport Wagon',\n",
       "       'Promaster Cargo Van', 'Cab Plus', 'GranTurismo Convertible',\n",
       "       'CTS-V Wagon', 'Ram Van', 'convertible', 'minivan', 'Transit Van',\n",
       "       'van', 'regular-cab', 'suv', 'g sedan', 'g coupe', 'hatchback',\n",
       "       'king cab', 'supercrew', 'g convertible', 'coupe', 'crew cab',\n",
       "       'wagon', 'e-series van', 'regular cab', 'quad cab',\n",
       "       'g37 convertible', 'supercab', 'extended cab', 'crewmax cab',\n",
       "       'double cab', 'genesis coupe', 'access cab', 'mega cab', 'xtracab',\n",
       "       'beetle convertible', 'cts coupe', 'koup', 'club cab',\n",
       "       'elantra coupe', 'q60 coupe', 'cts-v coupe', 'transit van',\n",
       "       'granturismo convertible', 'tsx sport wagon',\n",
       "       'promaster cargo van', 'q60 convertible', 'cab plus 4',\n",
       "       'cts wagon'], dtype=object)"
      ]
     },
     "execution_count": 11,
     "metadata": {},
     "output_type": "execute_result"
    }
   ],
   "source": [
    "unique_values = df_clean['body'].unique() # check unique values\n",
    "unique_values"
   ]
  },
  {
   "cell_type": "code",
   "execution_count": 12,
   "id": "24aaa78a",
   "metadata": {},
   "outputs": [
    {
     "name": "stdout",
     "output_type": "stream",
     "text": [
      "Sedan          174944\n",
      "SUV            100435\n",
      "sedan           36717\n",
      "suv             20636\n",
      "Hatchback       19374\n",
      "                ...  \n",
      "Cab Plus            3\n",
      "cab plus 4          1\n",
      "CTS-V Wagon         1\n",
      "Ram Van             1\n",
      "cts wagon           1\n",
      "Name: body, Length: 85, dtype: int64\n"
     ]
    }
   ],
   "source": [
    "bodytype_counts = df_clean['body'].value_counts() # count unique values\n",
    "print(bodytype_counts)"
   ]
  },
  {
   "cell_type": "markdown",
   "id": "4ad936d4",
   "metadata": {},
   "source": [
    "As we can see from the output, SUV and suv are the same, but they are written in different capitalization. Now we change convert the entire column to lowercase"
   ]
  },
  {
   "cell_type": "code",
   "execution_count": 13,
   "id": "38064604",
   "metadata": {},
   "outputs": [
    {
     "data": {
      "text/plain": [
       "array(['suv', 'sedan', 'convertible', 'coupe', 'wagon', 'hatchback',\n",
       "       'crew cab', 'g coupe', 'g sedan', 'elantra coupe', 'genesis coupe',\n",
       "       'minivan', 'van', 'double cab', 'crewmax cab', 'access cab',\n",
       "       'king cab', 'cts coupe', 'supercrew', 'e-series van',\n",
       "       'extended cab', 'supercab', 'g convertible', 'koup', 'regular cab',\n",
       "       'quad cab', 'cts-v coupe', 'g37 convertible', 'club cab',\n",
       "       'xtracab', 'q60 convertible', 'cts wagon', 'g37 coupe', 'mega cab',\n",
       "       'cab plus 4', 'q60 coupe', 'beetle convertible', 'tsx sport wagon',\n",
       "       'promaster cargo van', 'cab plus', 'granturismo convertible',\n",
       "       'cts-v wagon', 'ram van', 'transit van', 'regular-cab'],\n",
       "      dtype=object)"
      ]
     },
     "execution_count": 13,
     "metadata": {},
     "output_type": "execute_result"
    }
   ],
   "source": [
    "df_clean[\"body\"] = df_clean[\"body\"].str.lower()\n",
    "updated_unique_values = df_clean['body'].unique() # check unique values after applying lowercases\n",
    "updated_unique_values"
   ]
  },
  {
   "cell_type": "code",
   "execution_count": 14,
   "id": "2a34b926",
   "metadata": {},
   "outputs": [
    {
     "name": "stdout",
     "output_type": "stream",
     "text": [
      "sedan                      211661\n",
      "suv                        121071\n",
      "hatchback                   23847\n",
      "minivan                     21943\n",
      "coupe                       15996\n",
      "crew cab                    14257\n",
      "wagon                       14236\n",
      "convertible                  9359\n",
      "supercrew                    7573\n",
      "g sedan                      6944\n",
      "supercab                     4185\n",
      "regular cab                  4073\n",
      "extended cab                 3960\n",
      "quad cab                     3517\n",
      "van                          3515\n",
      "g coupe                      1504\n",
      "double cab                   1468\n",
      "e-series van                 1108\n",
      "crewmax cab                   488\n",
      "king cab                      446\n",
      "g convertible                 306\n",
      "access cab                    266\n",
      "genesis coupe                 255\n",
      "koup                          162\n",
      "club cab                      150\n",
      "cts coupe                     120\n",
      "mega cab                       97\n",
      "elantra coupe                  87\n",
      "promaster cargo van            56\n",
      "beetle convertible             53\n",
      "q60 convertible                41\n",
      "q60 coupe                      36\n",
      "xtracab                        34\n",
      "tsx sport wagon                28\n",
      "cts-v coupe                    26\n",
      "g37 convertible                19\n",
      "transit van                    17\n",
      "regular-cab                    14\n",
      "g37 coupe                      11\n",
      "cts wagon                      11\n",
      "granturismo convertible        11\n",
      "cab plus 4                      5\n",
      "cab plus                        3\n",
      "cts-v wagon                     1\n",
      "ram van                         1\n",
      "Name: body, dtype: int64\n"
     ]
    }
   ],
   "source": [
    "updated_bodytype_counts = df_clean['body'].value_counts() # count updated unique values\n",
    "print(updated_bodytype_counts)"
   ]
  },
  {
   "cell_type": "markdown",
   "id": "e4fe43bd",
   "metadata": {},
   "source": [
    "Now do the same thing for make column"
   ]
  },
  {
   "cell_type": "code",
   "execution_count": 15,
   "id": "7ccfc655",
   "metadata": {},
   "outputs": [
    {
     "data": {
      "text/plain": [
       "array(['Kia', 'BMW', 'Volvo', 'Nissan', 'Chevrolet', 'Audi', 'Ford',\n",
       "       'Cadillac', 'Acura', 'Lexus', 'Hyundai', 'Buick', 'Infiniti',\n",
       "       'Jeep', 'Mercedes-Benz', 'Mitsubishi', 'Mazda', 'MINI',\n",
       "       'Land Rover', 'Lincoln', 'Jaguar', 'Volkswagen', 'Toyota',\n",
       "       'Subaru', 'Scion', 'Porsche', 'Dodge', 'FIAT', 'Chrysler',\n",
       "       'Ferrari', 'Honda', 'GMC', 'Ram', 'smart', 'Bentley', 'Pontiac',\n",
       "       'Saturn', 'Maserati', 'Mercury', 'HUMMER', 'Saab', 'Suzuki',\n",
       "       'Oldsmobile', 'Rolls-Royce', 'Isuzu', 'Plymouth', 'Tesla',\n",
       "       'Aston Martin', 'Geo', 'Fisker', 'Daewoo', 'Lamborghini', 'Lotus'],\n",
       "      dtype=object)"
      ]
     },
     "execution_count": 15,
     "metadata": {},
     "output_type": "execute_result"
    }
   ],
   "source": [
    "make_unique = df_clean[\"make\"].unique()\n",
    "make_unique"
   ]
  },
  {
   "cell_type": "code",
   "execution_count": 16,
   "id": "0fe3d954",
   "metadata": {},
   "outputs": [
    {
     "data": {
      "text/plain": [
       "Ford             81186\n",
       "Chevrolet        54177\n",
       "Nissan           44082\n",
       "Toyota           35319\n",
       "Dodge            27188\n",
       "Honda            24784\n",
       "Hyundai          18669\n",
       "BMW              17670\n",
       "Kia              15829\n",
       "Chrysler         15137\n",
       "Mercedes-Benz    14129\n",
       "Infiniti         14022\n",
       "Jeep             12737\n",
       "Volkswagen       10785\n",
       "Lexus            10411\n",
       "GMC               9222\n",
       "Mazda             6931\n",
       "Cadillac          6318\n",
       "Lincoln           4951\n",
       "Audi              4812\n",
       "Acura             4504\n",
       "Buick             4471\n",
       "Subaru            4369\n",
       "Ram               4044\n",
       "Pontiac           4019\n",
       "Mitsubishi        3661\n",
       "Volvo             3086\n",
       "MINI              2953\n",
       "Saturn            2571\n",
       "Mercury           1574\n",
       "Scion             1545\n",
       "Land Rover        1322\n",
       "Jaguar            1257\n",
       "Porsche           1157\n",
       "Suzuki             978\n",
       "HUMMER             768\n",
       "FIAT               725\n",
       "Saab               416\n",
       "smart              343\n",
       "Oldsmobile         318\n",
       "Isuzu              179\n",
       "Maserati           109\n",
       "Bentley            105\n",
       "Aston Martin        24\n",
       "Tesla               23\n",
       "Rolls-Royce         17\n",
       "Ferrari             17\n",
       "Plymouth            16\n",
       "Geo                 16\n",
       "Fisker               9\n",
       "Lamborghini          3\n",
       "Daewoo               2\n",
       "Lotus                1\n",
       "Name: make, dtype: int64"
      ]
     },
     "execution_count": 16,
     "metadata": {},
     "output_type": "execute_result"
    }
   ],
   "source": [
    "make_count = df_clean[\"make\"].value_counts()\n",
    "make_count"
   ]
  },
  {
   "cell_type": "markdown",
   "id": "56e0b498",
   "metadata": {},
   "source": [
    "- The make column looks fine, without any errors in mispelling and capitalization.\n",
    "- Now we look at transmission column."
   ]
  },
  {
   "cell_type": "code",
   "execution_count": 17,
   "id": "9c564c9d",
   "metadata": {},
   "outputs": [
    {
     "data": {
      "text/plain": [
       "array(['automatic', 'manual'], dtype=object)"
      ]
     },
     "execution_count": 17,
     "metadata": {},
     "output_type": "execute_result"
    }
   ],
   "source": [
    "transmission_unique = df_clean[\"transmission\"].unique()\n",
    "transmission_unique"
   ]
  },
  {
   "cell_type": "code",
   "execution_count": 18,
   "id": "9dade298",
   "metadata": {},
   "outputs": [
    {
     "data": {
      "text/plain": [
       "automatic    456583\n",
       "manual        16378\n",
       "Name: transmission, dtype: int64"
      ]
     },
     "execution_count": 18,
     "metadata": {},
     "output_type": "execute_result"
    }
   ],
   "source": [
    "transmission_count = df_clean[\"transmission\"].value_counts()\n",
    "transmission_count"
   ]
  },
  {
   "cell_type": "markdown",
   "id": "e5e6cb86",
   "metadata": {},
   "source": [
    "- The transmission column looks fine, without any errors in mispelling and capitalization."
   ]
  },
  {
   "cell_type": "markdown",
   "id": "3f0935b9",
   "metadata": {},
   "source": [
    "### Exploring the dataset"
   ]
  },
  {
   "cell_type": "code",
   "execution_count": 19,
   "id": "b33a7051",
   "metadata": {},
   "outputs": [
    {
     "data": {
      "text/html": [
       "<div>\n",
       "<style scoped>\n",
       "    .dataframe tbody tr th:only-of-type {\n",
       "        vertical-align: middle;\n",
       "    }\n",
       "\n",
       "    .dataframe tbody tr th {\n",
       "        vertical-align: top;\n",
       "    }\n",
       "\n",
       "    .dataframe thead th {\n",
       "        text-align: right;\n",
       "    }\n",
       "</style>\n",
       "<table border=\"1\" class=\"dataframe\">\n",
       "  <thead>\n",
       "    <tr style=\"text-align: right;\">\n",
       "      <th></th>\n",
       "      <th>dep_rate</th>\n",
       "      <th>odometer</th>\n",
       "      <th>mmr</th>\n",
       "      <th>sellingprice</th>\n",
       "    </tr>\n",
       "  </thead>\n",
       "  <tbody>\n",
       "    <tr>\n",
       "      <th>dep_rate</th>\n",
       "      <td>1.000000</td>\n",
       "      <td>-0.314394</td>\n",
       "      <td>0.276124</td>\n",
       "      <td>0.317061</td>\n",
       "    </tr>\n",
       "    <tr>\n",
       "      <th>odometer</th>\n",
       "      <td>-0.314394</td>\n",
       "      <td>1.000000</td>\n",
       "      <td>-0.581556</td>\n",
       "      <td>-0.576271</td>\n",
       "    </tr>\n",
       "    <tr>\n",
       "      <th>mmr</th>\n",
       "      <td>0.276124</td>\n",
       "      <td>-0.581556</td>\n",
       "      <td>1.000000</td>\n",
       "      <td>0.983633</td>\n",
       "    </tr>\n",
       "    <tr>\n",
       "      <th>sellingprice</th>\n",
       "      <td>0.317061</td>\n",
       "      <td>-0.576271</td>\n",
       "      <td>0.983633</td>\n",
       "      <td>1.000000</td>\n",
       "    </tr>\n",
       "  </tbody>\n",
       "</table>\n",
       "</div>"
      ],
      "text/plain": [
       "              dep_rate  odometer       mmr  sellingprice\n",
       "dep_rate      1.000000 -0.314394  0.276124      0.317061\n",
       "odometer     -0.314394  1.000000 -0.581556     -0.576271\n",
       "mmr           0.276124 -0.581556  1.000000      0.983633\n",
       "sellingprice  0.317061 -0.576271  0.983633      1.000000"
      ]
     },
     "execution_count": 19,
     "metadata": {},
     "output_type": "execute_result"
    }
   ],
   "source": [
    "import seaborn as sns\n",
    "df_numerical_cor = df_clean.drop([\"year\"], axis=1).select_dtypes(include=\"number\").corr()\n",
    "df_numerical_cor"
   ]
  },
  {
   "cell_type": "code",
   "execution_count": 20,
   "id": "b8966212",
   "metadata": {},
   "outputs": [
    {
     "data": {
      "image/png": "[encoded data removed]",
      "text/plain": [
       "<Figure size 640x480 with 2 Axes>"
      ]
     },
     "metadata": {},
     "output_type": "display_data"
    }
   ],
   "source": [
    "custom_cmap = sns.cubehelix_palette(as_cmap=True)\n",
    "sns.heatmap(df_numerical_cor, cmap=custom_cmap)\n",
    "plt.title(\"Correlation Heatmap\")\n",
    "plt.show()"
   ]
  },
  {
   "cell_type": "markdown",
   "id": "d6c4886f",
   "metadata": {},
   "source": [
    "- As we can observe, there is low correlations between variables. \n",
    "- Although sellingprice has a very strong correlation with mmr, but it does not give useful information as one is the market value, and one is the actual sale value."
   ]
  },
  {
   "cell_type": "markdown",
   "id": "d89a2601",
   "metadata": {},
   "source": [
    "Now, we find out basic information about the most and least cars sold throughout the period."
   ]
  },
  {
   "cell_type": "code",
   "execution_count": 29,
   "id": "0aacf075",
   "metadata": {},
   "outputs": [
    {
     "data": {
      "text/html": [
       "<div>\n",
       "<style scoped>\n",
       "    .dataframe tbody tr th:only-of-type {\n",
       "        vertical-align: middle;\n",
       "    }\n",
       "\n",
       "    .dataframe tbody tr th {\n",
       "        vertical-align: top;\n",
       "    }\n",
       "\n",
       "    .dataframe thead th {\n",
       "        text-align: right;\n",
       "    }\n",
       "</style>\n",
       "<table border=\"1\" class=\"dataframe\">\n",
       "  <thead>\n",
       "    <tr style=\"text-align: right;\">\n",
       "      <th></th>\n",
       "      <th>year</th>\n",
       "      <th>count</th>\n",
       "    </tr>\n",
       "  </thead>\n",
       "  <tbody>\n",
       "    <tr>\n",
       "      <th>0</th>\n",
       "      <td>1990</td>\n",
       "      <td>33</td>\n",
       "    </tr>\n",
       "    <tr>\n",
       "      <th>1</th>\n",
       "      <td>1991</td>\n",
       "      <td>51</td>\n",
       "    </tr>\n",
       "    <tr>\n",
       "      <th>2</th>\n",
       "      <td>1992</td>\n",
       "      <td>97</td>\n",
       "    </tr>\n",
       "    <tr>\n",
       "      <th>3</th>\n",
       "      <td>1993</td>\n",
       "      <td>127</td>\n",
       "    </tr>\n",
       "    <tr>\n",
       "      <th>4</th>\n",
       "      <td>1994</td>\n",
       "      <td>286</td>\n",
       "    </tr>\n",
       "    <tr>\n",
       "      <th>5</th>\n",
       "      <td>1995</td>\n",
       "      <td>485</td>\n",
       "    </tr>\n",
       "  </tbody>\n",
       "</table>\n",
       "</div>"
      ],
      "text/plain": [
       "   year  count\n",
       "0  1990     33\n",
       "1  1991     51\n",
       "2  1992     97\n",
       "3  1993    127\n",
       "4  1994    286\n",
       "5  1995    485"
      ]
     },
     "execution_count": 29,
     "metadata": {},
     "output_type": "execute_result"
    }
   ],
   "source": [
    "cars_year = df_clean.groupby(\"year\")[\"make\"].count().reset_index(name = \"count\")\n",
    "cars_year.head(6)"
   ]
  },
  {
   "cell_type": "code",
   "execution_count": 30,
   "id": "2f0ad40f",
   "metadata": {},
   "outputs": [
    {
     "data": {
      "text/html": [
       "<div>\n",
       "<style scoped>\n",
       "    .dataframe tbody tr th:only-of-type {\n",
       "        vertical-align: middle;\n",
       "    }\n",
       "\n",
       "    .dataframe tbody tr th {\n",
       "        vertical-align: top;\n",
       "    }\n",
       "\n",
       "    .dataframe thead th {\n",
       "        text-align: right;\n",
       "    }\n",
       "</style>\n",
       "<table border=\"1\" class=\"dataframe\">\n",
       "  <thead>\n",
       "    <tr style=\"text-align: right;\">\n",
       "      <th></th>\n",
       "      <th>year</th>\n",
       "      <th>Average Sales Price</th>\n",
       "    </tr>\n",
       "  </thead>\n",
       "  <tbody>\n",
       "    <tr>\n",
       "      <th>0</th>\n",
       "      <td>1990</td>\n",
       "      <td>1429.545455</td>\n",
       "    </tr>\n",
       "    <tr>\n",
       "      <th>1</th>\n",
       "      <td>1991</td>\n",
       "      <td>994.607843</td>\n",
       "    </tr>\n",
       "    <tr>\n",
       "      <th>2</th>\n",
       "      <td>1992</td>\n",
       "      <td>874.742268</td>\n",
       "    </tr>\n",
       "    <tr>\n",
       "      <th>3</th>\n",
       "      <td>1993</td>\n",
       "      <td>777.362205</td>\n",
       "    </tr>\n",
       "    <tr>\n",
       "      <th>4</th>\n",
       "      <td>1994</td>\n",
       "      <td>856.468531</td>\n",
       "    </tr>\n",
       "    <tr>\n",
       "      <th>5</th>\n",
       "      <td>1995</td>\n",
       "      <td>873.814433</td>\n",
       "    </tr>\n",
       "  </tbody>\n",
       "</table>\n",
       "</div>"
      ],
      "text/plain": [
       "   year  Average Sales Price\n",
       "0  1990          1429.545455\n",
       "1  1991           994.607843\n",
       "2  1992           874.742268\n",
       "3  1993           777.362205\n",
       "4  1994           856.468531\n",
       "5  1995           873.814433"
      ]
     },
     "execution_count": 30,
     "metadata": {},
     "output_type": "execute_result"
    }
   ],
   "source": [
    "soldprice_year = df_clean.groupby(\"year\")[\"sellingprice\"].mean().reset_index(name = \"Average Sales Price\")\n",
    "soldprice_year.head(6)"
   ]
  },
  {
   "cell_type": "code",
   "execution_count": 31,
   "id": "3248a774",
   "metadata": {},
   "outputs": [
    {
     "data": {
      "image/png": "[encoded data removed]",
      "text/plain": [
       "<Figure size 1200x500 with 2 Axes>"
      ]
     },
     "metadata": {},
     "output_type": "display_data"
    }
   ],
   "source": [
    "plt.figure(figsize = (12,5))\n",
    "plt.subplot(1,2,1)\n",
    "sns.lineplot(x = cars_year[\"year\"], y = cars_year[\"count\"], data = cars_year)\n",
    "plt.title(\"THE NUMBER OF SALES CAR FROM 1990 TO 2015\")\n",
    "plt.xlabel(\"Year\")\n",
    "plt.ylabel(\"The number of cars sold\")\n",
    "\n",
    "plt.subplot(1,2,2)\n",
    "sns.lineplot(x = soldprice_year[\"year\"], y = soldprice_year[\"Average Sales Price\"], data = soldprice_year)\n",
    "plt.title(\"THE AVERAGE CAR SOLD PRICES FROM 1990 TO 2015\")\n",
    "plt.tight_layout()\n",
    "plt.show()"
   ]
  },
  {
   "cell_type": "markdown",
   "id": "227ce6eb",
   "metadata": {},
   "source": [
    "- The number of cars sold increase dramatically from 33 cars to slightly over 80000 during 2012 and 2013, before witnessing a significantly decreasing to hundreds of cars in 2015.\n",
    "- On the contrary, the car prices witness a steady increase from approximately 1000 dollar to roughly 25000 dollar in the given period. Probably, that could be a reason for the decrease of car sales; however, investigation should be conducted."
   ]
  },
  {
   "cell_type": "code",
   "execution_count": 21,
   "id": "a76db582",
   "metadata": {},
   "outputs": [
    {
     "data": {
      "text/html": [
       "<div>\n",
       "<style scoped>\n",
       "    .dataframe tbody tr th:only-of-type {\n",
       "        vertical-align: middle;\n",
       "    }\n",
       "\n",
       "    .dataframe tbody tr th {\n",
       "        vertical-align: top;\n",
       "    }\n",
       "\n",
       "    .dataframe thead th {\n",
       "        text-align: right;\n",
       "    }\n",
       "</style>\n",
       "<table border=\"1\" class=\"dataframe\">\n",
       "  <thead>\n",
       "    <tr style=\"text-align: right;\">\n",
       "      <th></th>\n",
       "      <th>make</th>\n",
       "      <th>count</th>\n",
       "    </tr>\n",
       "  </thead>\n",
       "  <tbody>\n",
       "    <tr>\n",
       "      <th>0</th>\n",
       "      <td>Acura</td>\n",
       "      <td>4504</td>\n",
       "    </tr>\n",
       "    <tr>\n",
       "      <th>1</th>\n",
       "      <td>Aston Martin</td>\n",
       "      <td>24</td>\n",
       "    </tr>\n",
       "    <tr>\n",
       "      <th>2</th>\n",
       "      <td>Audi</td>\n",
       "      <td>4812</td>\n",
       "    </tr>\n",
       "    <tr>\n",
       "      <th>3</th>\n",
       "      <td>BMW</td>\n",
       "      <td>17670</td>\n",
       "    </tr>\n",
       "    <tr>\n",
       "      <th>4</th>\n",
       "      <td>Bentley</td>\n",
       "      <td>105</td>\n",
       "    </tr>\n",
       "    <tr>\n",
       "      <th>5</th>\n",
       "      <td>Buick</td>\n",
       "      <td>4471</td>\n",
       "    </tr>\n",
       "  </tbody>\n",
       "</table>\n",
       "</div>"
      ],
      "text/plain": [
       "           make  count\n",
       "0         Acura   4504\n",
       "1  Aston Martin     24\n",
       "2          Audi   4812\n",
       "3           BMW  17670\n",
       "4       Bentley    105\n",
       "5         Buick   4471"
      ]
     },
     "execution_count": 21,
     "metadata": {},
     "output_type": "execute_result"
    }
   ],
   "source": [
    "cars_sum = df_clean.groupby(\"make\").size().reset_index(name=\"count\")\n",
    "cars_sum.head(6)"
   ]
  },
  {
   "cell_type": "code",
   "execution_count": 22,
   "id": "178bdfa6",
   "metadata": {},
   "outputs": [
    {
     "data": {
      "image/png": "[encoded data removed]",
      "text/plain": [
       "<Figure size 640x480 with 1 Axes>"
      ]
     },
     "metadata": {},
     "output_type": "display_data"
    }
   ],
   "source": [
    "blue = '#aebacb'\n",
    "black = '#000000'\n",
    "plt.hist(cars_sum[\"count\"], bins=15, color=blue, edgecolor=black)\n",
    "plt.title(\"The number of cars sold from 1990 to 2015\")\n",
    "plt.xlabel(\"Number of cars sold by each brand\")\n",
    "plt.ylabel(\"Frequency\")\n",
    "\n",
    "plt.show()"
   ]
  },
  {
   "cell_type": "markdown",
   "id": "f653b761",
   "metadata": {},
   "source": [
    "- The distribution is right-skewed, with an outlier. Overall, there are few brands that reach beyond 40000 old car sales.\n",
    "- Now identify the car brands with the highest and lowest number of car sales."
   ]
  },
  {
   "cell_type": "code",
   "execution_count": 23,
   "id": "6c44db64",
   "metadata": {},
   "outputs": [],
   "source": [
    "most_carsold = cars_sum.sort_values(by = [\"count\"], ascending = False).head(7) # Find 7 most_car_sold\n",
    "least_carsold = cars_sum.sort_values(by = [\"count\"], ascending = True).head(7) # Find 7 least_car_sold\n",
    "average_carsales = cars_sum[\"count\"].median()"
   ]
  },
  {
   "cell_type": "code",
   "execution_count": 24,
   "id": "6e846f19",
   "metadata": {},
   "outputs": [
    {
     "data": {
      "image/png": "[encoded data removed]",
      "text/plain": [
       "<Figure size 1200x500 with 2 Axes>"
      ]
     },
     "metadata": {},
     "output_type": "display_data"
    }
   ],
   "source": [
    "#innitialize colors for bar graphs\n",
    "grey = \"#808080\" #specific variant of grey color\n",
    "red = \"#FF0000\" #specific variant of red color\n",
    "\n",
    "plt.figure(figsize = (12,5))\n",
    "plt.subplot(1,2,1)\n",
    "sns.barplot(x = most_carsold[\"make\"], y = most_carsold[\"count\"], data = most_carsold, color = grey)\n",
    "plt.title(\"The most car sold from 1990 to 2015\")\n",
    "\n",
    "\n",
    "plt.axhline(average_carsales, color=red, linestyle='dashed', linewidth=2, label='Median')\n",
    "# Adding text for the median line\n",
    "plt.text(len(most_carsold['make']) - 0.5, average_carsales + 1, f'Median: {average_carsales}', color='red', fontsize=12, ha='right', va='bottom')\n",
    "\n",
    "plt.subplot(1,2,2)\n",
    "sns.barplot(x = least_carsold[\"make\"], y = least_carsold[\"count\"], data = least_carsold, color = grey)\n",
    "plt.title(\"The least car sold from 1990 to 2015\")\n",
    "\n",
    "plt.axhline(average_carsales, color=red, linestyle='dashed', linewidth=2, label='Median')\n",
    "# Adding text for the median line\n",
    "plt.text(len(least_carsold['make']) - 0.5, average_carsales + 1, f'Median: {average_carsales}', color='red', fontsize=12, ha='right', va='bottom')\n",
    "\n",
    "plt.tight_layout()\n",
    "plt.show()"
   ]
  },
  {
   "cell_type": "markdown",
   "id": "8a39b77a",
   "metadata": {},
   "source": [
    "- The car brands with highest numbers of car sales are Ford, Chervolet, and Nissan.\n",
    "- The car brands with lowest numbers of car sales are Lotus, Daewoo, and Lamborghini.\n",
    "- Probably, car brands with highest numbers of car sales cost not as much as that of with lowest numbers of car sales. Or, it may come from other factors such as personal preference. We will figure out in clustering section."
   ]
  },
  {
   "cell_type": "code",
   "execution_count": null,
   "id": "6ebc36bf",
   "metadata": {},
   "outputs": [],
   "source": []
  },
  {
   "cell_type": "code",
   "execution_count": null,
   "id": "3be2ac8b",
   "metadata": {},
   "outputs": [],
   "source": []
  },
  {
   "cell_type": "code",
   "execution_count": null,
   "id": "325b5ed8",
   "metadata": {},
   "outputs": [],
   "source": []
  }
 ],
 "metadata": {
  "kernelspec": {
   "display_name": "Python 3 (ipykernel)",
   "language": "python",
   "name": "python3"
  },
  "language_info": {
   "codemirror_mode": {
    "name": "ipython",
    "version": 3
   },
   "file_extension": ".py",
   "mimetype": "text/x-python",
   "name": "python",
   "nbconvert_exporter": "python",
   "pygments_lexer": "ipython3",
   "version": "3.10.9"
  }
 },
 "nbformat": 4,
 "nbformat_minor": 5
}
